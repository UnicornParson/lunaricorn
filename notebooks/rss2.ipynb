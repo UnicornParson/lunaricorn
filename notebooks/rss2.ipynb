{
 "cells": [
  {
   "cell_type": "code",
   "execution_count": 1,
   "id": "ec20b289-f6ba-4e92-abfa-2e5ff3a5444e",
   "metadata": {},
   "outputs": [
    {
     "name": "stdout",
     "output_type": "stream",
     "text": [
      "Requirement already satisfied: feedparser in /opt/conda/lib/python3.11/site-packages (from -r ../requirements.txt (line 1)) (6.0.11)\n",
      "Requirement already satisfied: argon2-cffi in /opt/conda/lib/python3.11/site-packages (from -r ../requirements.txt (line 2)) (23.1.0)\n",
      "Requirement already satisfied: beautifulsoup4 in /opt/conda/lib/python3.11/site-packages (from -r ../requirements.txt (line 3)) (4.12.2)\n",
      "Requirement already satisfied: selenium in /opt/conda/lib/python3.11/site-packages (from -r ../requirements.txt (line 4)) (4.33.0)\n",
      "Requirement already satisfied: webdriver-manager in /opt/conda/lib/python3.11/site-packages (from -r ../requirements.txt (line 5)) (4.0.2)\n",
      "Requirement already satisfied: playwright in /opt/conda/lib/python3.11/site-packages (from -r ../requirements.txt (line 6)) (1.50.0)\n",
      "Requirement already satisfied: cloudscraper in /opt/conda/lib/python3.11/site-packages (from -r ../requirements.txt (line 7)) (1.2.71)\n",
      "Requirement already satisfied: nest_asyncio in /opt/conda/lib/python3.11/site-packages (from -r ../requirements.txt (line 8)) (1.6.0)\n",
      "Requirement already satisfied: tabulate in /opt/conda/lib/python3.11/site-packages (from -r ../requirements.txt (line 9)) (0.9.0)\n",
      "Requirement already satisfied: markdownify in /opt/conda/lib/python3.11/site-packages (from -r ../requirements.txt (line 10)) (1.1.0)\n",
      "Requirement already satisfied: sgmllib3k in /opt/conda/lib/python3.11/site-packages (from feedparser->-r ../requirements.txt (line 1)) (1.0.0)\n",
      "Requirement already satisfied: argon2-cffi-bindings in /opt/conda/lib/python3.11/site-packages (from argon2-cffi->-r ../requirements.txt (line 2)) (21.2.0)\n",
      "Requirement already satisfied: soupsieve>1.2 in /opt/conda/lib/python3.11/site-packages (from beautifulsoup4->-r ../requirements.txt (line 3)) (2.5)\n",
      "Requirement already satisfied: urllib3~=2.4.0 in /opt/conda/lib/python3.11/site-packages (from urllib3[socks]~=2.4.0->selenium->-r ../requirements.txt (line 4)) (2.4.0)\n",
      "Requirement already satisfied: trio~=0.30.0 in /opt/conda/lib/python3.11/site-packages (from selenium->-r ../requirements.txt (line 4)) (0.30.0)\n",
      "Requirement already satisfied: trio-websocket~=0.12.2 in /opt/conda/lib/python3.11/site-packages (from selenium->-r ../requirements.txt (line 4)) (0.12.2)\n",
      "Requirement already satisfied: certifi>=2025.4.26 in /opt/conda/lib/python3.11/site-packages (from selenium->-r ../requirements.txt (line 4)) (2025.6.15)\n",
      "Requirement already satisfied: typing_extensions~=4.13.2 in /opt/conda/lib/python3.11/site-packages (from selenium->-r ../requirements.txt (line 4)) (4.13.2)\n",
      "Requirement already satisfied: websocket-client~=1.8.0 in /opt/conda/lib/python3.11/site-packages (from selenium->-r ../requirements.txt (line 4)) (1.8.0)\n",
      "Requirement already satisfied: attrs>=23.2.0 in /opt/conda/lib/python3.11/site-packages (from trio~=0.30.0->selenium->-r ../requirements.txt (line 4)) (24.3.0)\n",
      "Requirement already satisfied: sortedcontainers in /opt/conda/lib/python3.11/site-packages (from trio~=0.30.0->selenium->-r ../requirements.txt (line 4)) (2.4.0)\n",
      "Requirement already satisfied: idna in /opt/conda/lib/python3.11/site-packages (from trio~=0.30.0->selenium->-r ../requirements.txt (line 4)) (3.10)\n",
      "Requirement already satisfied: outcome in /opt/conda/lib/python3.11/site-packages (from trio~=0.30.0->selenium->-r ../requirements.txt (line 4)) (1.3.0.post0)\n",
      "Requirement already satisfied: sniffio>=1.3.0 in /opt/conda/lib/python3.11/site-packages (from trio~=0.30.0->selenium->-r ../requirements.txt (line 4)) (1.3.1)\n",
      "Requirement already satisfied: wsproto>=0.14 in /opt/conda/lib/python3.11/site-packages (from trio-websocket~=0.12.2->selenium->-r ../requirements.txt (line 4)) (1.2.0)\n",
      "Requirement already satisfied: pysocks!=1.5.7,<2.0,>=1.5.6 in /opt/conda/lib/python3.11/site-packages (from urllib3[socks]~=2.4.0->selenium->-r ../requirements.txt (line 4)) (1.7.1)\n",
      "Requirement already satisfied: requests in /opt/conda/lib/python3.11/site-packages (from webdriver-manager->-r ../requirements.txt (line 5)) (2.32.3)\n",
      "Requirement already satisfied: python-dotenv in /opt/conda/lib/python3.11/site-packages (from webdriver-manager->-r ../requirements.txt (line 5)) (1.0.1)\n",
      "Requirement already satisfied: packaging in /opt/conda/lib/python3.11/site-packages (from webdriver-manager->-r ../requirements.txt (line 5)) (24.2)\n",
      "Requirement already satisfied: pyee<13,>=12 in /opt/conda/lib/python3.11/site-packages (from playwright->-r ../requirements.txt (line 6)) (12.1.1)\n",
      "Requirement already satisfied: greenlet<4.0.0,>=3.1.1 in /opt/conda/lib/python3.11/site-packages (from playwright->-r ../requirements.txt (line 6)) (3.1.1)\n",
      "Requirement already satisfied: pyparsing>=2.4.7 in /opt/conda/lib/python3.11/site-packages (from cloudscraper->-r ../requirements.txt (line 7)) (3.2.1)\n",
      "Requirement already satisfied: requests-toolbelt>=0.9.1 in /opt/conda/lib/python3.11/site-packages (from cloudscraper->-r ../requirements.txt (line 7)) (1.0.0)\n",
      "Requirement already satisfied: six<2,>=1.15 in /opt/conda/lib/python3.11/site-packages (from markdownify->-r ../requirements.txt (line 10)) (1.17.0)\n",
      "Requirement already satisfied: charset-normalizer<4,>=2 in /opt/conda/lib/python3.11/site-packages (from requests->webdriver-manager->-r ../requirements.txt (line 5)) (3.4.1)\n",
      "Requirement already satisfied: h11<1,>=0.9.0 in /opt/conda/lib/python3.11/site-packages (from wsproto>=0.14->trio-websocket~=0.12.2->selenium->-r ../requirements.txt (line 4)) (0.14.0)\n",
      "Requirement already satisfied: cffi>=1.0.1 in /opt/conda/lib/python3.11/site-packages (from argon2-cffi-bindings->argon2-cffi->-r ../requirements.txt (line 2)) (1.17.1)\n",
      "Requirement already satisfied: pycparser in /opt/conda/lib/python3.11/site-packages (from cffi>=1.0.1->argon2-cffi-bindings->argon2-cffi->-r ../requirements.txt (line 2)) (2.22)\n"
     ]
    }
   ],
   "source": [
    "!pip install -r ../requirements.txt"
   ]
  },
  {
   "cell_type": "code",
   "execution_count": 2,
   "id": "0e4b86ee-4870-44b4-a9e1-20dea1f5e8f5",
   "metadata": {},
   "outputs": [],
   "source": [
    "import sys\n",
    "import os\n",
    "from pathlib import Path\n",
    "from datetime import datetime\n",
    "sys.path.append(os.path.dirname(os.getcwd()))\n",
    "sys.path.append(Path(os.getcwd()).parent.absolute())\n",
    "import lunaricorn\n"
   ]
  },
  {
   "cell_type": "code",
   "execution_count": 3,
   "id": "6ac25eac-cbc2-4ec6-8955-1e250896efb8",
   "metadata": {},
   "outputs": [],
   "source": [
    "loader = lunaricorn.net.rss.RssLoader()\n",
    "convertor = lunaricorn.data.DataConvertor()\n",
    "entries = await loader.load(\"https://lore.kernel.org/all/new.atom\")\n",
    "h = entries[0].full_content\n",
    "\n"
   ]
  },
  {
   "cell_type": "code",
   "execution_count": 4,
   "id": "8787fb80-42a8-4eaa-b104-87e24b52a1b5",
   "metadata": {},
   "outputs": [],
   "source": [
    "\n",
    "md = entries[0].export_to_md()\n",
    "filename = datetime.now().strftime(\"tmp/%Y%m%d%H%M%S%f\")[:-3]\n",
    "with open(f\"{filename}_{convertor.str_to_valid_filename(entries[0].title)}.md\", \"w\") as f:\n",
    "    f.write(md)\n",
    "    f.flush()"
   ]
  },
  {
   "cell_type": "code",
   "execution_count": null,
   "id": "fd3dd12e-1142-4803-9ce3-a746446d7e87",
   "metadata": {},
   "outputs": [],
   "source": []
  },
  {
   "cell_type": "code",
   "execution_count": null,
   "id": "d32c5073-b992-4892-98ba-eb226a6d9cc6",
   "metadata": {},
   "outputs": [],
   "source": []
  }
 ],
 "metadata": {
  "kernelspec": {
   "display_name": "Python 3 (ipykernel)",
   "language": "python",
   "name": "python3"
  },
  "language_info": {
   "codemirror_mode": {
    "name": "ipython",
    "version": 3
   },
   "file_extension": ".py",
   "mimetype": "text/x-python",
   "name": "python",
   "nbconvert_exporter": "python",
   "pygments_lexer": "ipython3",
   "version": "3.11.6"
  }
 },
 "nbformat": 4,
 "nbformat_minor": 5
}
