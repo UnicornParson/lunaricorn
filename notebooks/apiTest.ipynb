{
 "cells": [
  {
   "cell_type": "code",
   "execution_count": 1,
   "id": "02e0e1a6-6ef3-4bfb-9402-fbafc880ca98",
   "metadata": {},
   "outputs": [
    {
     "name": "stdout",
     "output_type": "stream",
     "text": [
      "/home/jovyan/work/lunaricorn/notebooks\n",
      "Requirement already satisfied: pip in /opt/conda/lib/python3.11/site-packages (25.2)\n",
      "Requirement already satisfied: feedparser in /opt/conda/lib/python3.11/site-packages (from -r ../lunaricorn/requirements.txt (line 1)) (6.0.11)\n",
      "Requirement already satisfied: pyzmq in /opt/conda/lib/python3.11/site-packages (from -r ../lunaricorn/requirements.txt (line 2)) (26.2.0)\n",
      "Requirement already satisfied: argon2-cffi in /opt/conda/lib/python3.11/site-packages (from -r ../lunaricorn/requirements.txt (line 3)) (23.1.0)\n",
      "Requirement already satisfied: beautifulsoup4 in /opt/conda/lib/python3.11/site-packages (from -r ../lunaricorn/requirements.txt (line 4)) (4.12.2)\n",
      "Requirement already satisfied: selenium in /opt/conda/lib/python3.11/site-packages (from -r ../lunaricorn/requirements.txt (line 5)) (4.33.0)\n",
      "Requirement already satisfied: webdriver-manager in /opt/conda/lib/python3.11/site-packages (from -r ../lunaricorn/requirements.txt (line 6)) (4.0.2)\n",
      "Requirement already satisfied: playwright in /opt/conda/lib/python3.11/site-packages (from -r ../lunaricorn/requirements.txt (line 7)) (1.50.0)\n",
      "Requirement already satisfied: cloudscraper in /opt/conda/lib/python3.11/site-packages (from -r ../lunaricorn/requirements.txt (line 8)) (1.2.71)\n",
      "Requirement already satisfied: nest_asyncio in /opt/conda/lib/python3.11/site-packages (from -r ../lunaricorn/requirements.txt (line 9)) (1.6.0)\n",
      "Requirement already satisfied: tabulate in /opt/conda/lib/python3.11/site-packages (from -r ../lunaricorn/requirements.txt (line 10)) (0.9.0)\n",
      "Requirement already satisfied: markdownify in /opt/conda/lib/python3.11/site-packages (from -r ../lunaricorn/requirements.txt (line 11)) (1.1.0)\n",
      "Requirement already satisfied: psycopg2-binary in /opt/conda/lib/python3.11/site-packages (from -r ../lunaricorn/requirements.txt (line 12)) (2.9.10)\n",
      "Requirement already satisfied: tqdm in /opt/conda/lib/python3.11/site-packages (from -r ../lunaricorn/requirements.txt (line 13)) (4.67.1)\n",
      "Requirement already satisfied: sgmllib3k in /opt/conda/lib/python3.11/site-packages (from feedparser->-r ../lunaricorn/requirements.txt (line 1)) (1.0.0)\n",
      "Requirement already satisfied: argon2-cffi-bindings in /opt/conda/lib/python3.11/site-packages (from argon2-cffi->-r ../lunaricorn/requirements.txt (line 3)) (21.2.0)\n",
      "Requirement already satisfied: soupsieve>1.2 in /opt/conda/lib/python3.11/site-packages (from beautifulsoup4->-r ../lunaricorn/requirements.txt (line 4)) (2.5)\n",
      "Requirement already satisfied: urllib3~=2.4.0 in /opt/conda/lib/python3.11/site-packages (from urllib3[socks]~=2.4.0->selenium->-r ../lunaricorn/requirements.txt (line 5)) (2.4.0)\n",
      "Requirement already satisfied: trio~=0.30.0 in /opt/conda/lib/python3.11/site-packages (from selenium->-r ../lunaricorn/requirements.txt (line 5)) (0.30.0)\n",
      "Requirement already satisfied: trio-websocket~=0.12.2 in /opt/conda/lib/python3.11/site-packages (from selenium->-r ../lunaricorn/requirements.txt (line 5)) (0.12.2)\n",
      "Requirement already satisfied: certifi>=2025.4.26 in /opt/conda/lib/python3.11/site-packages (from selenium->-r ../lunaricorn/requirements.txt (line 5)) (2025.6.15)\n",
      "Requirement already satisfied: typing_extensions~=4.13.2 in /opt/conda/lib/python3.11/site-packages (from selenium->-r ../lunaricorn/requirements.txt (line 5)) (4.13.2)\n",
      "Requirement already satisfied: websocket-client~=1.8.0 in /opt/conda/lib/python3.11/site-packages (from selenium->-r ../lunaricorn/requirements.txt (line 5)) (1.8.0)\n",
      "Requirement already satisfied: attrs>=23.2.0 in /opt/conda/lib/python3.11/site-packages (from trio~=0.30.0->selenium->-r ../lunaricorn/requirements.txt (line 5)) (24.3.0)\n",
      "Requirement already satisfied: sortedcontainers in /opt/conda/lib/python3.11/site-packages (from trio~=0.30.0->selenium->-r ../lunaricorn/requirements.txt (line 5)) (2.4.0)\n",
      "Requirement already satisfied: idna in /opt/conda/lib/python3.11/site-packages (from trio~=0.30.0->selenium->-r ../lunaricorn/requirements.txt (line 5)) (3.10)\n",
      "Requirement already satisfied: outcome in /opt/conda/lib/python3.11/site-packages (from trio~=0.30.0->selenium->-r ../lunaricorn/requirements.txt (line 5)) (1.3.0.post0)\n",
      "Requirement already satisfied: sniffio>=1.3.0 in /opt/conda/lib/python3.11/site-packages (from trio~=0.30.0->selenium->-r ../lunaricorn/requirements.txt (line 5)) (1.3.1)\n",
      "Requirement already satisfied: wsproto>=0.14 in /opt/conda/lib/python3.11/site-packages (from trio-websocket~=0.12.2->selenium->-r ../lunaricorn/requirements.txt (line 5)) (1.2.0)\n",
      "Requirement already satisfied: pysocks!=1.5.7,<2.0,>=1.5.6 in /opt/conda/lib/python3.11/site-packages (from urllib3[socks]~=2.4.0->selenium->-r ../lunaricorn/requirements.txt (line 5)) (1.7.1)\n",
      "Requirement already satisfied: requests in /opt/conda/lib/python3.11/site-packages (from webdriver-manager->-r ../lunaricorn/requirements.txt (line 6)) (2.32.3)\n",
      "Requirement already satisfied: python-dotenv in /opt/conda/lib/python3.11/site-packages (from webdriver-manager->-r ../lunaricorn/requirements.txt (line 6)) (1.0.1)\n",
      "Requirement already satisfied: packaging in /opt/conda/lib/python3.11/site-packages (from webdriver-manager->-r ../lunaricorn/requirements.txt (line 6)) (24.2)\n",
      "Requirement already satisfied: pyee<13,>=12 in /opt/conda/lib/python3.11/site-packages (from playwright->-r ../lunaricorn/requirements.txt (line 7)) (12.1.1)\n",
      "Requirement already satisfied: greenlet<4.0.0,>=3.1.1 in /opt/conda/lib/python3.11/site-packages (from playwright->-r ../lunaricorn/requirements.txt (line 7)) (3.1.1)\n",
      "Requirement already satisfied: pyparsing>=2.4.7 in /opt/conda/lib/python3.11/site-packages (from cloudscraper->-r ../lunaricorn/requirements.txt (line 8)) (3.2.1)\n",
      "Requirement already satisfied: requests-toolbelt>=0.9.1 in /opt/conda/lib/python3.11/site-packages (from cloudscraper->-r ../lunaricorn/requirements.txt (line 8)) (1.0.0)\n",
      "Requirement already satisfied: six<2,>=1.15 in /opt/conda/lib/python3.11/site-packages (from markdownify->-r ../lunaricorn/requirements.txt (line 11)) (1.17.0)\n",
      "Requirement already satisfied: charset-normalizer<4,>=2 in /opt/conda/lib/python3.11/site-packages (from requests->webdriver-manager->-r ../lunaricorn/requirements.txt (line 6)) (3.4.1)\n",
      "Requirement already satisfied: h11<1,>=0.9.0 in /opt/conda/lib/python3.11/site-packages (from wsproto>=0.14->trio-websocket~=0.12.2->selenium->-r ../lunaricorn/requirements.txt (line 5)) (0.14.0)\n",
      "Requirement already satisfied: cffi>=1.0.1 in /opt/conda/lib/python3.11/site-packages (from argon2-cffi-bindings->argon2-cffi->-r ../lunaricorn/requirements.txt (line 3)) (1.17.1)\n",
      "Requirement already satisfied: pycparser in /opt/conda/lib/python3.11/site-packages (from cffi>=1.0.1->argon2-cffi-bindings->argon2-cffi->-r ../lunaricorn/requirements.txt (line 3)) (2.22)\n"
     ]
    }
   ],
   "source": [
    "import os\n",
    "cwd = os.getcwd()\n",
    "print(cwd)\n",
    "if cwd == '/home/jovyan':\n",
    "    os.chdir('/home/jovyan/work/lunaricorn/notebooks')\n",
    "!pip install --upgrade pip\n",
    "!pip install -r ../lunaricorn/requirements.txt"
   ]
  },
  {
   "cell_type": "code",
   "execution_count": 2,
   "id": "f9a0d784-1f05-42db-9f14-4a784b808b27",
   "metadata": {},
   "outputs": [],
   "source": [
    "import sys\n",
    "import os\n",
    "from pathlib import Path\n",
    "from datetime import datetime\n",
    "sys.path.append(os.path.dirname(os.getcwd()))\n",
    "sys.path.append(Path(os.getcwd()).parent.absolute())\n",
    "import lunaricorn\n",
    "import lunaricorn.api.signaling as lsig\n",
    "\n",
    "# Redirect all logging output to Jupyter cell output\n",
    "import logging\n",
    "\n",
    "# Create a handler that writes log messages to stdout (Jupyter cell output)\n",
    "handler = logging.StreamHandler()\n",
    "handler.setLevel(logging.DEBUG)\n",
    "\n",
    "# Set a simple log format\n",
    "formatter = logging.Formatter('%(asctime)s [%(levelname)s] %(name)s: %(message)s')\n",
    "handler.setFormatter(formatter)\n",
    "\n",
    "# Get the root logger and configure it\n",
    "root_logger = logging.getLogger()\n",
    "root_logger.setLevel(logging.DEBUG)\n",
    "# Remove all existing handlers\n",
    "for h in root_logger.handlers[:]:\n",
    "    root_logger.removeHandler(h)\n",
    "root_logger.addHandler(handler)\n",
    "\n",
    "# Also set logging for common noisy libraries to WARNING\n",
    "for noisy in ['asyncio', 'urllib3', 'selenium', 'playwright', 'websockets']:\n",
    "    logging.getLogger(noisy).setLevel(logging.WARNING)\n"
   ]
  },
  {
   "cell_type": "code",
   "execution_count": 3,
   "id": "b982d4f8-41e3-4546-8eb8-cc922ab7e0ab",
   "metadata": {},
   "outputs": [
    {
     "name": "stderr",
     "output_type": "stream",
     "text": [
      "2025-09-25 13:25:18,308 [INFO] lunaricorn.api.signaling.client.cid#API_TEST_NOTEBOOK: Connected to REP socket at tcp://192.168.0.18:5555\n",
      "2025-09-25 13:25:18,316 [INFO] lunaricorn.api.signaling.client.cid#API_TEST_NOTEBOOK: Connected to PUB socket at tcp://192.168.0.18:5555\n",
      "2025-09-25 13:25:18,318 [INFO] lunaricorn.api.signaling.client.cid#API_TEST_NOTEBOOK: ZeroMQ client API_TEST_NOTEBOOK connected successfully\n"
     ]
    },
    {
     "name": "stdout",
     "output_type": "stream",
     "text": [
      "Send request\n"
     ]
    },
    {
     "name": "stderr",
     "output_type": "stream",
     "text": [
      "2025-09-25 13:25:18,418 [DEBUG] lunaricorn.api.signaling.client.cid#API_TEST_NOTEBOOK: Heartbeat sent from API_TEST_NOTEBOOK\n",
      "2025-09-25 13:25:28,420 [DEBUG] lunaricorn.api.signaling.client.cid#API_TEST_NOTEBOOK: Heartbeat sent from API_TEST_NOTEBOOK\n"
     ]
    },
    {
     "name": "stdout",
     "output_type": "stream",
     "text": [
      "Send request\n"
     ]
    },
    {
     "name": "stderr",
     "output_type": "stream",
     "text": [
      "2025-09-25 13:25:38,422 [DEBUG] lunaricorn.api.signaling.client.cid#API_TEST_NOTEBOOK: Heartbeat sent from API_TEST_NOTEBOOK\n"
     ]
    },
    {
     "name": "stdout",
     "output_type": "stream",
     "text": [
      "Send request\n"
     ]
    }
   ],
   "source": [
    "sig_cfg = lsig.SignalingClientConfig(\"192.168.0.18\", 5555, 5556, 5557)\n",
    "sig_client_id = \"API_TEST_NOTEBOOK\"\n",
    "\n",
    "sig_client = lsig.SignalingClient(sig_cfg, sig_client_id)\n",
    "rc = sig_client.connect()\n",
    "if not rc:\n",
    "    print(\"cannot connect\")"
   ]
  },
  {
   "cell_type": "code",
   "execution_count": 4,
   "id": "b64207be-2873-4509-bd99-c4d5af4c2966",
   "metadata": {},
   "outputs": [
    {
     "data": {
      "text/plain": [
       "['ui_interaction',\n",
       " 'analytics',\n",
       " 'automated',\n",
       " 'form_submission',\n",
       " 'system',\n",
       " 'example',\n",
       " 'maintenance',\n",
       " 'test']"
      ]
     },
     "execution_count": 4,
     "metadata": {},
     "output_type": "execute_result"
    }
   ],
   "source": [
    "sig_client.get_tags_list()"
   ]
  },
  {
   "cell_type": "code",
   "execution_count": 5,
   "id": "e08d40c6-2efd-4860-9212-ff4bb8729be2",
   "metadata": {},
   "outputs": [
    {
     "data": {
      "text/plain": [
       "['push', 'system_task', 'user_interaction']"
      ]
     },
     "execution_count": 5,
     "metadata": {},
     "output_type": "execute_result"
    }
   ],
   "source": [
    "sig_client.get_types_list()"
   ]
  },
  {
   "cell_type": "code",
   "execution_count": 6,
   "id": "66bf6c01-992e-41e8-8f2d-b9665da2fef2",
   "metadata": {},
   "outputs": [
    {
     "data": {
      "text/plain": [
       "['form_data_67890', 'user_session_12345', 'database_primary', 'storage_server']"
      ]
     },
     "execution_count": 6,
     "metadata": {},
     "output_type": "execute_result"
    }
   ],
   "source": [
    "sig_client.get_affected_list()"
   ]
  },
  {
   "cell_type": "code",
   "execution_count": 7,
   "id": "0608ccb2-238f-48dc-8423-d2c3eff37d7b",
   "metadata": {},
   "outputs": [
    {
     "data": {
      "text/plain": [
       "['web_client', 'ownerless']"
      ]
     },
     "execution_count": 7,
     "metadata": {},
     "output_type": "execute_result"
    }
   ],
   "source": [
    "sig_client.get_owners_list()"
   ]
  },
  {
   "cell_type": "code",
   "execution_count": 8,
   "id": "28df97ff-1eb8-4d41-a55c-addb35c26473",
   "metadata": {},
   "outputs": [
    {
     "data": {
      "text/plain": [
       "[ClientEventData(eid=147, event_type='push', payload={'message': 'Hello, World!', 'u': 'cfc410c8-d2ef-4aad-955e-ba088a0adfa9', 'value': 9}, timestamp=1757340192.760825, source='ownerless', affected=None, tags=['test', 'example']),\n",
       " ClientEventData(eid=146, event_type='push', payload={'message': 'Hello, World!', 'u': '2afabae7-da04-40e3-8184-351c7f6020fa', 'value': 8}, timestamp=1757340192.718373, source='ownerless', affected=None, tags=['test', 'example']),\n",
       " ClientEventData(eid=145, event_type='push', payload={'message': 'Hello, World!', 'u': '5c42c59b-0f56-483c-8f73-54b9f1d010c6', 'value': 7}, timestamp=1757340192.687052, source='ownerless', affected=None, tags=['test', 'example']),\n",
       " ClientEventData(eid=144, event_type='push', payload={'message': 'Hello, World!', 'u': '7463b5e2-7e84-41d8-abdb-ff6f9dfbfe74', 'value': 6}, timestamp=1757340192.655591, source='ownerless', affected=None, tags=['test', 'example']),\n",
       " ClientEventData(eid=143, event_type='push', payload={'message': 'Hello, World!', 'u': '899c868e-af8d-40fd-9da0-9435261970a5', 'value': 5}, timestamp=1757340192.625169, source='ownerless', affected=None, tags=['test', 'example']),\n",
       " ClientEventData(eid=142, event_type='push', payload={'message': 'Hello, World!', 'u': '8e083c41-7084-4224-94d1-960a1c9f8dd6', 'value': 4}, timestamp=1757340192.582757, source='ownerless', affected=None, tags=['test', 'example']),\n",
       " ClientEventData(eid=141, event_type='push', payload={'message': 'Hello, World!', 'u': '6abab5a0-e441-4c81-bec9-380d94253219', 'value': 3}, timestamp=1757340192.567528, source='ownerless', affected=None, tags=['test', 'example']),\n",
       " ClientEventData(eid=140, event_type='push', payload={'message': 'Hello, World!', 'u': '15053868-c45d-467e-8ad9-fe195fc7f344', 'value': 2}, timestamp=1757340192.536058, source='ownerless', affected=None, tags=['test', 'example']),\n",
       " ClientEventData(eid=139, event_type='push', payload={'message': 'Hello, World!', 'u': 'da9b9e76-907e-4ec1-9c27-3753a0bb69b5', 'value': 1}, timestamp=1757340192.494537, source='ownerless', affected=None, tags=['test', 'example']),\n",
       " ClientEventData(eid=138, event_type='push', payload={'message': 'Hello, World!', 'u': '5d962cfc-6da0-435e-9f56-a262b390e0a0', 'value': 0}, timestamp=1757340192.224616, source='ownerless', affected=None, tags=['test', 'example']),\n",
       " ClientEventData(eid=106, event_type='system_task', payload={'backup_size': '2.5GB', 'duration_seconds': 120, 'system_event': 'auto_backup'}, timestamp=1757336448.367144, source='ownerless', affected=['database_primary', 'storage_server'], tags=['system', 'maintenance', 'automated']),\n",
       " ClientEventData(eid=105, event_type='user_interaction', payload={'action': 'button_click', 'element_id': 'submit_button', 'page_url': 'https://example.com/form', 'user_agent': 'Mozilla/5.0 (Windows NT 10.0; Win64; x64) AppleWebKit/537.36'}, timestamp=1757336448.335541, source='web_client', affected=['user_session_12345', 'form_data_67890'], tags=['ui_interaction', 'form_submission', 'analytics']),\n",
       " ClientEventData(eid=104, event_type='system_task', payload={'backup_size': '2.5GB', 'duration_seconds': 120, 'system_event': 'auto_backup'}, timestamp=1757336049.631913, source='ownerless', affected=['database_primary', 'storage_server'], tags=['system', 'maintenance', 'automated']),\n",
       " ClientEventData(eid=103, event_type='user_interaction', payload={'action': 'button_click', 'element_id': 'submit_button', 'page_url': 'https://example.com/form', 'user_agent': 'Mozilla/5.0 (Windows NT 10.0; Win64; x64) AppleWebKit/537.36'}, timestamp=1757336049.392725, source='web_client', affected=['user_session_12345', 'form_data_67890'], tags=['ui_interaction', 'form_submission', 'analytics']),\n",
       " ClientEventData(eid=71, event_type='system_task', payload={'backup_size': '2.5GB', 'duration_seconds': 120, 'system_event': 'auto_backup'}, timestamp=1757335600.577069, source='ownerless', affected=['database_primary', 'storage_server'], tags=['system', 'maintenance', 'automated']),\n",
       " ClientEventData(eid=70, event_type='user_interaction', payload={'action': 'button_click', 'element_id': 'submit_button', 'page_url': 'https://example.com/form', 'user_agent': 'Mozilla/5.0 (Windows NT 10.0; Win64; x64) AppleWebKit/537.36'}, timestamp=1757335600.45113, source='web_client', affected=['user_session_12345', 'form_data_67890'], tags=['ui_interaction', 'form_submission', 'analytics']),\n",
       " ClientEventData(eid=45, event_type='push', payload={'message': 'Hello, World!', 'u': 'e3da7bae-df47-4bc3-9d83-db0215a2b4e5', 'value': 9}, timestamp=1757115526.279559, source='ownerless', affected=None, tags=['test', 'example']),\n",
       " ClientEventData(eid=44, event_type='push', payload={'message': 'Hello, World!', 'u': 'd6dcd0d9-a21f-4c5e-85df-b9f02fd645f7', 'value': 8}, timestamp=1757115525.408767, source='ownerless', affected=None, tags=['test', 'example']),\n",
       " ClientEventData(eid=43, event_type='push', payload={'message': 'Hello, World!', 'u': '85998fd7-861e-4864-bcf9-244138f72b9e', 'value': 7}, timestamp=1757115524.405405, source='ownerless', affected=None, tags=['test', 'example']),\n",
       " ClientEventData(eid=42, event_type='push', payload={'message': 'Hello, World!', 'u': '5bf8287c-b08c-4a09-b996-d5b49b24d134', 'value': 6}, timestamp=1757115522.88822, source='ownerless', affected=None, tags=['test', 'example']),\n",
       " ClientEventData(eid=41, event_type='push', payload={'message': 'Hello, World!', 'u': '4d6e40da-62e6-4277-991b-4452a8792708', 'value': 5}, timestamp=1757115519.934365, source='ownerless', affected=None, tags=['test', 'example']),\n",
       " ClientEventData(eid=40, event_type='push', payload={'message': 'Hello, World!', 'u': '66c7abc2-4efa-4431-b0e5-704cfaf2be6e', 'value': 4}, timestamp=1757115517.898201, source='ownerless', affected=None, tags=['test', 'example']),\n",
       " ClientEventData(eid=39, event_type='push', payload={'message': 'Hello, World!', 'u': '6b948fb2-6c39-459c-b4f7-f307ad7b8c2f', 'value': 3}, timestamp=1757115514.759794, source='ownerless', affected=None, tags=['test', 'example']),\n",
       " ClientEventData(eid=38, event_type='push', payload={'message': 'Hello, World!', 'u': '9f449c93-d178-4294-9a9d-43ef63b29a76', 'value': 2}, timestamp=1757115512.991285, source='ownerless', affected=None, tags=['test', 'example']),\n",
       " ClientEventData(eid=37, event_type='push', payload={'message': 'Hello, World!', 'u': '272b6992-a7ea-4906-b0db-f0774a1e46cb', 'value': 1}, timestamp=1757115508.529387, source='ownerless', affected=None, tags=['test', 'example']),\n",
       " ClientEventData(eid=36, event_type='push', payload={'message': 'Hello, World!', 'u': 'f2a65403-be41-437f-b9e9-761d6d446612', 'value': 0}, timestamp=1757115506.665021, source='ownerless', affected=None, tags=['test', 'example']),\n",
       " ClientEventData(eid=35, event_type='system_task', payload={'backup_size': '2.5GB', 'duration_seconds': 120, 'system_event': 'auto_backup'}, timestamp=1757115148.843222, source='ownerless', affected=['database_primary', 'storage_server'], tags=['system', 'maintenance', 'automated']),\n",
       " ClientEventData(eid=34, event_type='user_interaction', payload={'action': 'button_click', 'element_id': 'submit_button', 'page_url': 'https://example.com/form', 'user_agent': 'Mozilla/5.0 (Windows NT 10.0; Win64; x64) AppleWebKit/537.36'}, timestamp=1757115147.214058, source='web_client', affected=['user_session_12345', 'form_data_67890'], tags=['ui_interaction', 'form_submission', 'analytics']),\n",
       " ClientEventData(eid=33, event_type='push', payload={'message': 'Hello, World!', 'value': 42}, timestamp=1757112317.578038, source='ownerless', affected=None, tags=['test', 'example']),\n",
       " ClientEventData(eid=32, event_type='system_task', payload={'backup_size': '2.5GB', 'duration_seconds': 120, 'system_event': 'auto_backup'}, timestamp=1757112311.236834, source='ownerless', affected=['database_primary', 'storage_server'], tags=['system', 'maintenance', 'automated']),\n",
       " ClientEventData(eid=31, event_type='user_interaction', payload={'action': 'button_click', 'element_id': 'submit_button', 'page_url': 'https://example.com/form', 'user_agent': 'Mozilla/5.0 (Windows NT 10.0; Win64; x64) AppleWebKit/537.36'}, timestamp=1757112309.229136, source='web_client', affected=['user_session_12345', 'form_data_67890'], tags=['ui_interaction', 'form_submission', 'analytics']),\n",
       " ClientEventData(eid=30, event_type='system_task', payload={'backup_size': '2.5GB', 'duration_seconds': 120, 'system_event': 'auto_backup'}, timestamp=1757112208.776803, source='ownerless', affected=['database_primary', 'storage_server'], tags=['system', 'maintenance', 'automated']),\n",
       " ClientEventData(eid=29, event_type='user_interaction', payload={'action': 'button_click', 'element_id': 'submit_button', 'page_url': 'https://example.com/form', 'user_agent': 'Mozilla/5.0 (Windows NT 10.0; Win64; x64) AppleWebKit/537.36'}, timestamp=1757112207.492113, source='web_client', affected=['user_session_12345', 'form_data_67890'], tags=['ui_interaction', 'form_submission', 'analytics']),\n",
       " ClientEventData(eid=28, event_type='system_task', payload={'backup_size': '2.5GB', 'duration_seconds': 120, 'system_event': 'auto_backup'}, timestamp=1757109906.135997, source='ownerless', affected=['database_primary', 'storage_server'], tags=['system', 'maintenance', 'automated']),\n",
       " ClientEventData(eid=27, event_type='user_interaction', payload={'action': 'button_click', 'element_id': 'submit_button', 'page_url': 'https://example.com/form', 'user_agent': 'Mozilla/5.0 (Windows NT 10.0; Win64; x64) AppleWebKit/537.36'}, timestamp=1757109906.107966, source='web_client', affected=['user_session_12345', 'form_data_67890'], tags=['ui_interaction', 'form_submission', 'analytics']),\n",
       " ClientEventData(eid=26, event_type='system_task', payload={'backup_size': '2.5GB', 'duration_seconds': 120, 'system_event': 'auto_backup'}, timestamp=1757109868.795267, source='ownerless', affected=['database_primary', 'storage_server'], tags=['system', 'maintenance', 'automated']),\n",
       " ClientEventData(eid=25, event_type='user_interaction', payload={'action': 'button_click', 'element_id': 'submit_button', 'page_url': 'https://example.com/form', 'user_agent': 'Mozilla/5.0 (Windows NT 10.0; Win64; x64) AppleWebKit/537.36'}, timestamp=1757109868.752927, source='web_client', affected=['user_session_12345', 'form_data_67890'], tags=['ui_interaction', 'form_submission', 'analytics']),\n",
       " ClientEventData(eid=24, event_type='system_task', payload={'backup_size': '2.5GB', 'duration_seconds': 120, 'system_event': 'auto_backup'}, timestamp=1757109788.734607, source='ownerless', affected=['database_primary', 'storage_server'], tags=['system', 'maintenance', 'automated']),\n",
       " ClientEventData(eid=23, event_type='user_interaction', payload={'action': 'button_click', 'element_id': 'submit_button', 'page_url': 'https://example.com/form', 'user_agent': 'Mozilla/5.0 (Windows NT 10.0; Win64; x64) AppleWebKit/537.36'}, timestamp=1757109788.708405, source='web_client', affected=['user_session_12345', 'form_data_67890'], tags=['ui_interaction', 'form_submission', 'analytics']),\n",
       " ClientEventData(eid=22, event_type='system_task', payload={'backup_size': '2.5GB', 'duration_seconds': 120, 'system_event': 'auto_backup'}, timestamp=1757109611.800014, source='ownerless', affected=['database_primary', 'storage_server'], tags=['system', 'maintenance', 'automated']),\n",
       " ClientEventData(eid=21, event_type='user_interaction', payload={'action': 'button_click', 'element_id': 'submit_button', 'page_url': 'https://example.com/form', 'user_agent': 'Mozilla/5.0 (Windows NT 10.0; Win64; x64) AppleWebKit/537.36'}, timestamp=1757109611.784764, source='web_client', affected=['user_session_12345', 'form_data_67890'], tags=['ui_interaction', 'form_submission', 'analytics']),\n",
       " ClientEventData(eid=20, event_type='system_task', payload={'backup_size': '2.5GB', 'duration_seconds': 120, 'system_event': 'auto_backup'}, timestamp=1757109518.464314, source='ownerless', affected=['database_primary', 'storage_server'], tags=['system', 'maintenance', 'automated']),\n",
       " ClientEventData(eid=19, event_type='user_interaction', payload={'action': 'button_click', 'element_id': 'submit_button', 'page_url': 'https://example.com/form', 'user_agent': 'Mozilla/5.0 (Windows NT 10.0; Win64; x64) AppleWebKit/537.36'}, timestamp=1757109517.829197, source='web_client', affected=['user_session_12345', 'form_data_67890'], tags=['ui_interaction', 'form_submission', 'analytics']),\n",
       " ClientEventData(eid=18, event_type='system_task', payload={'backup_size': '2.5GB', 'duration_seconds': 120, 'system_event': 'auto_backup'}, timestamp=1757109217.95141, source='ownerless', affected=['database_primary', 'storage_server'], tags=['system', 'maintenance', 'automated']),\n",
       " ClientEventData(eid=17, event_type='user_interaction', payload={'action': 'button_click', 'element_id': 'submit_button', 'page_url': 'https://example.com/form', 'user_agent': 'Mozilla/5.0 (Windows NT 10.0; Win64; x64) AppleWebKit/537.36'}, timestamp=1757109217.738301, source='web_client', affected=['user_session_12345', 'form_data_67890'], tags=['ui_interaction', 'form_submission', 'analytics']),\n",
       " ClientEventData(eid=16, event_type='system_task', payload={'backup_size': '2.5GB', 'duration_seconds': 120, 'system_event': 'auto_backup'}, timestamp=1756579087.933998, source='ownerless', affected=['database_primary', 'storage_server'], tags=['system', 'maintenance', 'automated']),\n",
       " ClientEventData(eid=15, event_type='user_interaction', payload={'action': 'button_click', 'element_id': 'submit_button', 'page_url': 'https://example.com/form', 'user_agent': 'Mozilla/5.0 (Windows NT 10.0; Win64; x64) AppleWebKit/537.36'}, timestamp=1756579087.853278, source='web_client', affected=['user_session_12345', 'form_data_67890'], tags=['ui_interaction', 'form_submission', 'analytics']),\n",
       " ClientEventData(eid=14, event_type='system_task', payload={'backup_size': '2.5GB', 'duration_seconds': 120, 'system_event': 'auto_backup'}, timestamp=1756578507.633155, source='ownerless', affected=['database_primary', 'storage_server'], tags=['system', 'maintenance', 'automated']),\n",
       " ClientEventData(eid=13, event_type='user_interaction', payload={'action': 'button_click', 'element_id': 'submit_button', 'page_url': 'https://example.com/form', 'user_agent': 'Mozilla/5.0 (Windows NT 10.0; Win64; x64) AppleWebKit/537.36'}, timestamp=1756578507.616865, source='web_client', affected=['user_session_12345', 'form_data_67890'], tags=['ui_interaction', 'form_submission', 'analytics']),\n",
       " ClientEventData(eid=12, event_type='system_task', payload={'backup_size': '2.5GB', 'duration_seconds': 120, 'system_event': 'auto_backup'}, timestamp=1756578347.60152, source='ownerless', affected=['database_primary', 'storage_server'], tags=['system', 'maintenance', 'automated']),\n",
       " ClientEventData(eid=11, event_type='user_interaction', payload={'action': 'button_click', 'element_id': 'submit_button', 'page_url': 'https://example.com/form', 'user_agent': 'Mozilla/5.0 (Windows NT 10.0; Win64; x64) AppleWebKit/537.36'}, timestamp=1756578347.443282, source='web_client', affected=['user_session_12345', 'form_data_67890'], tags=['ui_interaction', 'form_submission', 'analytics']),\n",
       " ClientEventData(eid=10, event_type='system_task', payload={'backup_size': '2.5GB', 'duration_seconds': 120, 'system_event': 'auto_backup'}, timestamp=1755981240.000507, source='ownerless', affected=['database_primary', 'storage_server'], tags=['system', 'maintenance', 'automated']),\n",
       " ClientEventData(eid=9, event_type='user_interaction', payload={'action': 'button_click', 'element_id': 'submit_button', 'page_url': 'https://example.com/form', 'user_agent': 'Mozilla/5.0 (Windows NT 10.0; Win64; x64) AppleWebKit/537.36'}, timestamp=1755981239.885794, source='web_client', affected=['user_session_12345', 'form_data_67890'], tags=['ui_interaction', 'form_submission', 'analytics']),\n",
       " ClientEventData(eid=8, event_type='system_task', payload={'backup_size': '2.5GB', 'duration_seconds': 120, 'system_event': 'auto_backup'}, timestamp=1755975157.280796, source='ownerless', affected=['database_primary', 'storage_server'], tags=['system', 'maintenance', 'automated']),\n",
       " ClientEventData(eid=7, event_type='user_interaction', payload={'action': 'button_click', 'element_id': 'submit_button', 'page_url': 'https://example.com/form', 'user_agent': 'Mozilla/5.0 (Windows NT 10.0; Win64; x64) AppleWebKit/537.36'}, timestamp=1755975157.265455, source='web_client', affected=['user_session_12345', 'form_data_67890'], tags=['ui_interaction', 'form_submission', 'analytics']),\n",
       " ClientEventData(eid=6, event_type='system_task', payload={'backup_size': '2.5GB', 'duration_seconds': 120, 'system_event': 'auto_backup'}, timestamp=1755974838.011031, source='ownerless', affected=['database_primary', 'storage_server'], tags=['system', 'maintenance', 'automated']),\n",
       " ClientEventData(eid=5, event_type='user_interaction', payload={'action': 'button_click', 'element_id': 'submit_button', 'page_url': 'https://example.com/form', 'user_agent': 'Mozilla/5.0 (Windows NT 10.0; Win64; x64) AppleWebKit/537.36'}, timestamp=1755974837.987925, source='web_client', affected=['user_session_12345', 'form_data_67890'], tags=['ui_interaction', 'form_submission', 'analytics']),\n",
       " ClientEventData(eid=4, event_type='system_task', payload={'backup_size': '2.5GB', 'duration_seconds': 120, 'system_event': 'auto_backup'}, timestamp=1755973438.864948, source='ownerless', affected=['database_primary', 'storage_server'], tags=['system', 'maintenance', 'automated']),\n",
       " ClientEventData(eid=3, event_type='user_interaction', payload={'action': 'button_click', 'element_id': 'submit_button', 'page_url': 'https://example.com/form', 'user_agent': 'Mozilla/5.0 (Windows NT 10.0; Win64; x64) AppleWebKit/537.36'}, timestamp=1755973438.850065, source='web_client', affected=['user_session_12345', 'form_data_67890'], tags=['ui_interaction', 'form_submission', 'analytics'])]"
      ]
     },
     "execution_count": 8,
     "metadata": {},
     "output_type": "execute_result"
    }
   ],
   "source": [
    "sig_client.browse_events(0.0, event_types = sig_client.get_types_list())"
   ]
  },
  {
   "cell_type": "code",
   "execution_count": null,
   "id": "eb4a2c2d-cfd8-4e7e-b819-c82fb5f2927a",
   "metadata": {},
   "outputs": [],
   "source": []
  }
 ],
 "metadata": {
  "kernelspec": {
   "display_name": "Python 3 (ipykernel)",
   "language": "python",
   "name": "python3"
  },
  "language_info": {
   "codemirror_mode": {
    "name": "ipython",
    "version": 3
   },
   "file_extension": ".py",
   "mimetype": "text/x-python",
   "name": "python",
   "nbconvert_exporter": "python",
   "pygments_lexer": "ipython3",
   "version": "3.11.6"
  }
 },
 "nbformat": 4,
 "nbformat_minor": 5
}
